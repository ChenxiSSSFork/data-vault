{
 "cells": [
  {
   "cell_type": "code",
   "execution_count": 1,
   "metadata": {},
   "outputs": [],
   "source": [
    "import data_vault"
   ]
  },
  {
   "cell_type": "code",
   "execution_count": 2,
   "metadata": {},
   "outputs": [],
   "source": [
    "!rm -rf data  # just to have the examples clean"
   ]
  },
  {
   "cell_type": "code",
   "execution_count": 3,
   "metadata": {},
   "outputs": [],
   "source": [
    "%open_vault -p data/storage.zip --secure False"
   ]
  },
  {
   "cell_type": "code",
   "execution_count": 4,
   "metadata": {},
   "outputs": [],
   "source": [
    "from pandas import DataFrame\n",
    "from random import choice, randint, seed\n",
    "seed(0)  # make the examples reproducible\n",
    "cities = ['London', 'Delhi', 'Tokyo', 'Lagos', 'Warsaw', 'Chongqing']\n",
    "salaries = DataFrame([\n",
    "    {'salary': randint(0, 100), 'city': choice(cities)}\n",
    "    for i in range(10000)\n",
    "])"
   ]
  },
  {
   "cell_type": "code",
   "execution_count": 5,
   "metadata": {},
   "outputs": [
    {
     "data": {
      "text/html": [
       "<div>\n",
       "<style scoped>\n",
       "    .dataframe tbody tr th:only-of-type {\n",
       "        vertical-align: middle;\n",
       "    }\n",
       "\n",
       "    .dataframe tbody tr th {\n",
       "        vertical-align: top;\n",
       "    }\n",
       "\n",
       "    .dataframe thead th {\n",
       "        text-align: right;\n",
       "    }\n",
       "</style>\n",
       "<table border=\"1\" class=\"dataframe\">\n",
       "  <thead>\n",
       "    <tr style=\"text-align: right;\">\n",
       "      <th></th>\n",
       "      <th>salary</th>\n",
       "      <th>city</th>\n",
       "    </tr>\n",
       "  </thead>\n",
       "  <tbody>\n",
       "    <tr>\n",
       "      <th>0</th>\n",
       "      <td>49</td>\n",
       "      <td>Lagos</td>\n",
       "    </tr>\n",
       "    <tr>\n",
       "      <th>1</th>\n",
       "      <td>5</td>\n",
       "      <td>Tokyo</td>\n",
       "    </tr>\n",
       "    <tr>\n",
       "      <th>2</th>\n",
       "      <td>65</td>\n",
       "      <td>Lagos</td>\n",
       "    </tr>\n",
       "  </tbody>\n",
       "</table>\n",
       "</div>"
      ],
      "text/plain": [
       "   salary   city\n",
       "0      49  Lagos\n",
       "1       5  Tokyo\n",
       "2      65  Lagos"
      ]
     },
     "execution_count": 5,
     "metadata": {},
     "output_type": "execute_result"
    }
   ],
   "source": [
    "salaries.head(3)"
   ]
  },
  {
   "cell_type": "markdown",
   "metadata": {},
   "source": [
    "## Examples"
   ]
  },
  {
   "cell_type": "markdown",
   "metadata": {},
   "source": [
    "### Store and import"
   ]
  },
  {
   "cell_type": "code",
   "execution_count": 6,
   "metadata": {},
   "outputs": [
    {
     "data": {
      "text/plain": [
       "'Stored salaries (None → 6DE33062) at Sunday, 08. Dec 2019 16:56'"
      ]
     },
     "metadata": {
      "action": "store",
      "command": "store salaries in datasets",
      "finished": "2019-12-08T16:56:52.483703",
      "finished_human_readable": "Sunday, 08. Dec 2019 16:56",
      "result": [
       {
        "new_file": {
         "crc32": "6DE33062",
         "sha256": "12F163211180F5E362D82D3EDA98E4DE78ED5F95EEC49DCBE3A7CB79B6708F5C"
        },
        "old_file": {
         "crc32": null,
         "sha256": null
        },
        "subject": "salaries"
       }
      ],
      "started": "2019-12-08T16:56:52.173012"
     },
     "output_type": "display_data"
    }
   ],
   "source": [
    "%vault store salaries in datasets"
   ]
  },
  {
   "cell_type": "code",
   "execution_count": 7,
   "metadata": {},
   "outputs": [
    {
     "name": "stdout",
     "output_type": "stream",
     "text": [
      "Reduced memory usage by 87.27%, from 0.79 MB to 0.10 MB.\n"
     ]
    },
    {
     "data": {
      "text/plain": [
       "'Imported salaries_dataset (6DE33062) at Sunday, 08. Dec 2019 16:56'"
      ]
     },
     "metadata": {
      "action": "import",
      "command": "import salaries from datasets as salaries_dataset",
      "finished": "2019-12-08T16:56:52.561010",
      "finished_human_readable": "Sunday, 08. Dec 2019 16:56",
      "result": [
       {
        "new_file": {
         "crc32": "6DE33062",
         "sha256": "12F163211180F5E362D82D3EDA98E4DE78ED5F95EEC49DCBE3A7CB79B6708F5C"
        },
        "subject": "salaries_dataset"
       }
      ],
      "started": "2019-12-08T16:56:52.492993"
     },
     "output_type": "display_data"
    }
   ],
   "source": [
    "%vault import salaries from datasets as salaries_dataset"
   ]
  },
  {
   "cell_type": "code",
   "execution_count": 8,
   "metadata": {},
   "outputs": [
    {
     "data": {
      "text/html": [
       "<div>\n",
       "<style scoped>\n",
       "    .dataframe tbody tr th:only-of-type {\n",
       "        vertical-align: middle;\n",
       "    }\n",
       "\n",
       "    .dataframe tbody tr th {\n",
       "        vertical-align: top;\n",
       "    }\n",
       "\n",
       "    .dataframe thead th {\n",
       "        text-align: right;\n",
       "    }\n",
       "</style>\n",
       "<table border=\"1\" class=\"dataframe\">\n",
       "  <thead>\n",
       "    <tr style=\"text-align: right;\">\n",
       "      <th></th>\n",
       "      <th>salary</th>\n",
       "      <th>city</th>\n",
       "    </tr>\n",
       "  </thead>\n",
       "  <tbody>\n",
       "    <tr>\n",
       "      <th>0</th>\n",
       "      <td>49</td>\n",
       "      <td>Lagos</td>\n",
       "    </tr>\n",
       "    <tr>\n",
       "      <th>1</th>\n",
       "      <td>5</td>\n",
       "      <td>Tokyo</td>\n",
       "    </tr>\n",
       "    <tr>\n",
       "      <th>2</th>\n",
       "      <td>65</td>\n",
       "      <td>Lagos</td>\n",
       "    </tr>\n",
       "  </tbody>\n",
       "</table>\n",
       "</div>"
      ],
      "text/plain": [
       "   salary   city\n",
       "0      49  Lagos\n",
       "1       5  Tokyo\n",
       "2      65  Lagos"
      ]
     },
     "execution_count": 8,
     "metadata": {},
     "output_type": "execute_result"
    }
   ],
   "source": [
    "salaries_dataset.head(3)"
   ]
  },
  {
   "cell_type": "code",
   "execution_count": 9,
   "metadata": {},
   "outputs": [],
   "source": [
    "salaries_by_age = salaries.assign(age=salaries.index.map(lambda x: randint(0, 100)))"
   ]
  },
  {
   "cell_type": "code",
   "execution_count": 10,
   "metadata": {},
   "outputs": [
    {
     "data": {
      "text/html": [
       "<div>\n",
       "<style scoped>\n",
       "    .dataframe tbody tr th:only-of-type {\n",
       "        vertical-align: middle;\n",
       "    }\n",
       "\n",
       "    .dataframe tbody tr th {\n",
       "        vertical-align: top;\n",
       "    }\n",
       "\n",
       "    .dataframe thead th {\n",
       "        text-align: right;\n",
       "    }\n",
       "</style>\n",
       "<table border=\"1\" class=\"dataframe\">\n",
       "  <thead>\n",
       "    <tr style=\"text-align: right;\">\n",
       "      <th></th>\n",
       "      <th>salary</th>\n",
       "      <th>city</th>\n",
       "      <th>age</th>\n",
       "    </tr>\n",
       "  </thead>\n",
       "  <tbody>\n",
       "    <tr>\n",
       "      <th>0</th>\n",
       "      <td>49</td>\n",
       "      <td>Lagos</td>\n",
       "      <td>62</td>\n",
       "    </tr>\n",
       "    <tr>\n",
       "      <th>1</th>\n",
       "      <td>5</td>\n",
       "      <td>Tokyo</td>\n",
       "      <td>55</td>\n",
       "    </tr>\n",
       "    <tr>\n",
       "      <th>2</th>\n",
       "      <td>65</td>\n",
       "      <td>Lagos</td>\n",
       "      <td>90</td>\n",
       "    </tr>\n",
       "  </tbody>\n",
       "</table>\n",
       "</div>"
      ],
      "text/plain": [
       "   salary   city  age\n",
       "0      49  Lagos   62\n",
       "1       5  Tokyo   55\n",
       "2      65  Lagos   90"
      ]
     },
     "execution_count": 10,
     "metadata": {},
     "output_type": "execute_result"
    }
   ],
   "source": [
    "salaries_by_age.head(3)"
   ]
  },
  {
   "cell_type": "code",
   "execution_count": 11,
   "metadata": {},
   "outputs": [
    {
     "data": {
      "text/plain": [
       "'Stored salaries_by_age (None → 80A8BBD8) at Sunday, 08. Dec 2019 16:56'"
      ]
     },
     "metadata": {
      "action": "store",
      "command": "store salaries_by_age in datasets",
      "finished": "2019-12-08T16:56:52.944610",
      "finished_human_readable": "Sunday, 08. Dec 2019 16:56",
      "result": [
       {
        "new_file": {
         "crc32": "80A8BBD8",
         "sha256": "13AA1ECD7C14187B98D7ADC7DF1F64AA743036323A7879A07F0730D4A973CD98"
        },
        "old_file": {
         "crc32": null,
         "sha256": null
        },
        "subject": "salaries_by_age"
       }
      ],
      "started": "2019-12-08T16:56:52.668674"
     },
     "output_type": "display_data"
    }
   ],
   "source": [
    "%vault store salaries_by_age in datasets"
   ]
  },
  {
   "cell_type": "code",
   "execution_count": 12,
   "metadata": {},
   "outputs": [
    {
     "data": {
      "text/plain": [
       "'Imported  at Sunday, 08. Dec 2019 16:56'"
      ]
     },
     "metadata": {
      "action": "import",
      "command": "import datasets",
      "finished": "2019-12-08T16:56:52.969994",
      "finished_human_readable": "Sunday, 08. Dec 2019 16:56",
      "result": [],
      "started": "2019-12-08T16:56:52.955052"
     },
     "output_type": "display_data"
    }
   ],
   "source": [
    "%vault import datasets"
   ]
  },
  {
   "cell_type": "code",
   "execution_count": 13,
   "metadata": {},
   "outputs": [],
   "source": [
    "# uncomment the line below and press <tab> with cursor after the dot (.)\n",
    "# to see how the autcompletion works on imported folders:\n",
    "\n",
    "# datasets."
   ]
  },
  {
   "cell_type": "code",
   "execution_count": 14,
   "metadata": {},
   "outputs": [
    {
     "name": "stdout",
     "output_type": "stream",
     "text": [
      "Reduced memory usage by 87.27%, from 0.79 MB to 0.10 MB.\n"
     ]
    },
    {
     "data": {
      "text/html": [
       "<div>\n",
       "<style scoped>\n",
       "    .dataframe tbody tr th:only-of-type {\n",
       "        vertical-align: middle;\n",
       "    }\n",
       "\n",
       "    .dataframe tbody tr th {\n",
       "        vertical-align: top;\n",
       "    }\n",
       "\n",
       "    .dataframe thead th {\n",
       "        text-align: right;\n",
       "    }\n",
       "</style>\n",
       "<table border=\"1\" class=\"dataframe\">\n",
       "  <thead>\n",
       "    <tr style=\"text-align: right;\">\n",
       "      <th></th>\n",
       "      <th>salary</th>\n",
       "      <th>city</th>\n",
       "    </tr>\n",
       "  </thead>\n",
       "  <tbody>\n",
       "    <tr>\n",
       "      <th>0</th>\n",
       "      <td>49</td>\n",
       "      <td>Lagos</td>\n",
       "    </tr>\n",
       "    <tr>\n",
       "      <th>1</th>\n",
       "      <td>5</td>\n",
       "      <td>Tokyo</td>\n",
       "    </tr>\n",
       "    <tr>\n",
       "      <th>2</th>\n",
       "      <td>65</td>\n",
       "      <td>Lagos</td>\n",
       "    </tr>\n",
       "  </tbody>\n",
       "</table>\n",
       "</div>"
      ],
      "text/plain": [
       "   salary   city\n",
       "0      49  Lagos\n",
       "1       5  Tokyo\n",
       "2      65  Lagos"
      ]
     },
     "execution_count": 14,
     "metadata": {},
     "output_type": "execute_result"
    }
   ],
   "source": [
    "datasets.salaries.head(3)"
   ]
  },
  {
   "cell_type": "code",
   "execution_count": 15,
   "metadata": {},
   "outputs": [
    {
     "name": "stdout",
     "output_type": "stream",
     "text": [
      "Reduced memory usage by 87.29%, from 0.87 MB to 0.11 MB.\n"
     ]
    },
    {
     "data": {
      "text/html": [
       "<div>\n",
       "<style scoped>\n",
       "    .dataframe tbody tr th:only-of-type {\n",
       "        vertical-align: middle;\n",
       "    }\n",
       "\n",
       "    .dataframe tbody tr th {\n",
       "        vertical-align: top;\n",
       "    }\n",
       "\n",
       "    .dataframe thead th {\n",
       "        text-align: right;\n",
       "    }\n",
       "</style>\n",
       "<table border=\"1\" class=\"dataframe\">\n",
       "  <thead>\n",
       "    <tr style=\"text-align: right;\">\n",
       "      <th></th>\n",
       "      <th>salary</th>\n",
       "      <th>city</th>\n",
       "      <th>age</th>\n",
       "    </tr>\n",
       "  </thead>\n",
       "  <tbody>\n",
       "    <tr>\n",
       "      <th>0</th>\n",
       "      <td>49</td>\n",
       "      <td>Lagos</td>\n",
       "      <td>62</td>\n",
       "    </tr>\n",
       "    <tr>\n",
       "      <th>1</th>\n",
       "      <td>5</td>\n",
       "      <td>Tokyo</td>\n",
       "      <td>55</td>\n",
       "    </tr>\n",
       "    <tr>\n",
       "      <th>2</th>\n",
       "      <td>65</td>\n",
       "      <td>Lagos</td>\n",
       "      <td>90</td>\n",
       "    </tr>\n",
       "  </tbody>\n",
       "</table>\n",
       "</div>"
      ],
      "text/plain": [
       "   salary   city  age\n",
       "0      49  Lagos   62\n",
       "1       5  Tokyo   55\n",
       "2      65  Lagos   90"
      ]
     },
     "execution_count": 15,
     "metadata": {},
     "output_type": "execute_result"
    }
   ],
   "source": [
    "datasets.salaries_by_age.head(3)"
   ]
  },
  {
   "cell_type": "markdown",
   "metadata": {},
   "source": [
    "To display all members in code:"
   ]
  },
  {
   "cell_type": "code",
   "execution_count": 16,
   "metadata": {},
   "outputs": [
    {
     "data": {
      "text/plain": [
       "['salaries', 'salaries_by_age']"
      ]
     },
     "execution_count": 16,
     "metadata": {},
     "output_type": "execute_result"
    }
   ],
   "source": [
    "dir(datasets)"
   ]
  },
  {
   "cell_type": "markdown",
   "metadata": {},
   "source": [
    "### Assert"
   ]
  },
  {
   "cell_type": "code",
   "execution_count": 17,
   "metadata": {},
   "outputs": [
    {
     "data": {
      "text/plain": [
       "'Verified datasets/salaries (6DE33062) at Sunday, 08. Dec 2019 16:56'"
      ]
     },
     "metadata": {
      "action": "assert",
      "command": "assert salaries in datasets is 6DE33062",
      "finished": "2019-12-08T16:56:53.280883",
      "finished_human_readable": "Sunday, 08. Dec 2019 16:56",
      "result": [
       {
        "old_file": {
         "crc32": "6DE33062"
        },
        "subject": "datasets/salaries"
       }
      ],
      "started": "2019-12-08T16:56:53.231758"
     },
     "output_type": "display_data"
    }
   ],
   "source": [
    "%vault assert salaries in datasets is 6DE33062"
   ]
  },
  {
   "cell_type": "markdown",
   "metadata": {},
   "source": [
    "### Delete"
   ]
  },
  {
   "cell_type": "code",
   "execution_count": 18,
   "metadata": {},
   "outputs": [
    {
     "data": {
      "text/plain": [
       "'Deleted datasets/salaries (6DE33062) at Sunday, 08. Dec 2019 16:56'"
      ]
     },
     "metadata": {
      "action": "del",
      "command": "del salaries from datasets",
      "finished": "2019-12-08T16:56:53.371888",
      "finished_human_readable": "Sunday, 08. Dec 2019 16:56",
      "result": [
       {
        "old_file": {
         "crc32": "6DE33062",
         "sha256": "12F163211180F5E362D82D3EDA98E4DE78ED5F95EEC49DCBE3A7CB79B6708F5C"
        },
        "subject": "datasets/salaries"
       }
      ],
      "started": "2019-12-08T16:56:53.295017"
     },
     "output_type": "display_data"
    }
   ],
   "source": [
    "%vault del salaries from datasets"
   ]
  },
  {
   "cell_type": "code",
   "execution_count": 19,
   "metadata": {},
   "outputs": [
    {
     "data": {
      "text/plain": [
       "['salaries_by_age']"
      ]
     },
     "execution_count": 19,
     "metadata": {},
     "output_type": "execute_result"
    }
   ],
   "source": [
    "dir(datasets)"
   ]
  },
  {
   "cell_type": "markdown",
   "metadata": {},
   "source": [
    "### Access logs"
   ]
  },
  {
   "cell_type": "code",
   "execution_count": 20,
   "metadata": {},
   "outputs": [
    {
     "name": "stdout",
     "output_type": "stream",
     "text": [
      "{\"action\": \"store\", \"result\": [{\"new_file\": {\"crc32\": \"6DE33062\", \"sha256\": \"12F163211180F5E362D82D3EDA98E4DE78ED5F95EEC49DCBE3A7CB79B6708F5C\"}, \"old_file\": {\"crc32\": null, \"sha256\": null}, \"subject\": \"salaries\"}], \"started\": \"2019-12-08T16:56:52.173012\", \"finished\": \"2019-12-08T16:56:52.483703\", \"finished_human_readable\": \"Sunday, 08. Dec 2019 16:56\", \"command\": \"store salaries in datasets\"}\r\n",
      "{\"action\": \"import\", \"result\": [{\"new_file\": {\"crc32\": \"6DE33062\", \"sha256\": \"12F163211180F5E362D82D3EDA98E4DE78ED5F95EEC49DCBE3A7CB79B6708F5C\"}, \"subject\": \"salaries_dataset\"}], \"started\": \"2019-12-08T16:56:52.492993\", \"finished\": \"2019-12-08T16:56:52.561010\", \"finished_human_readable\": \"Sunday, 08. Dec 2019 16:56\", \"command\": \"import salaries from datasets as salaries_dataset\"}\r\n",
      "{\"action\": \"store\", \"result\": [{\"new_file\": {\"crc32\": \"80A8BBD8\", \"sha256\": \"13AA1ECD7C14187B98D7ADC7DF1F64AA743036323A7879A07F0730D4A973CD98\"}, \"old_file\": {\"crc32\": null, \"sha256\": null}, \"subject\": \"salaries_by_age\"}], \"started\": \"2019-12-08T16:56:52.668674\", \"finished\": \"2019-12-08T16:56:52.944610\", \"finished_human_readable\": \"Sunday, 08. Dec 2019 16:56\", \"command\": \"store salaries_by_age in datasets\"}\r\n",
      "{\"action\": \"import\", \"result\": [], \"started\": \"2019-12-08T16:56:52.955052\", \"finished\": \"2019-12-08T16:56:52.969994\", \"finished_human_readable\": \"Sunday, 08. Dec 2019 16:56\", \"command\": \"import datasets\"}\r\n",
      "{\"action\": \"assert\", \"result\": [{\"subject\": \"datasets/salaries\", \"old_file\": {\"crc32\": \"6DE33062\"}}], \"started\": \"2019-12-08T16:56:53.231758\", \"finished\": \"2019-12-08T16:56:53.280883\", \"finished_human_readable\": \"Sunday, 08. Dec 2019 16:56\", \"command\": \"assert salaries in datasets is 6DE33062\"}\r\n",
      "{\"action\": \"del\", \"result\": [{\"old_file\": {\"crc32\": \"6DE33062\", \"sha256\": \"12F163211180F5E362D82D3EDA98E4DE78ED5F95EEC49DCBE3A7CB79B6708F5C\"}, \"subject\": \"datasets/salaries\"}], \"started\": \"2019-12-08T16:56:53.295017\", \"finished\": \"2019-12-08T16:56:53.371888\", \"finished_human_readable\": \"Sunday, 08. Dec 2019 16:56\", \"command\": \"del salaries from datasets\"}\r\n"
     ]
    }
   ],
   "source": [
    "!zcat data/storage.zip.vault.log.gz"
   ]
  },
  {
   "cell_type": "markdown",
   "metadata": {},
   "source": [
    "### Encrypted storage"
   ]
  },
  {
   "cell_type": "markdown",
   "metadata": {},
   "source": [
    "Normally you would want to keep the definition of your key in a secure location, not in the notebook itself, but just for the sake of demonstration:"
   ]
  },
  {
   "cell_type": "code",
   "execution_count": 21,
   "metadata": {},
   "outputs": [
    {
     "name": "stdout",
     "output_type": "stream",
     "text": [
      "env: STORAGE_KEY=SECRET_PASSWORD\n"
     ]
    }
   ],
   "source": [
    "%env STORAGE_KEY=SECRET_PASSWORD"
   ]
  },
  {
   "cell_type": "code",
   "execution_count": 22,
   "metadata": {},
   "outputs": [],
   "source": [
    "%open_vault -p data/encrypted_storage.zip --encryption_variable STORAGE_KEY"
   ]
  },
  {
   "cell_type": "code",
   "execution_count": 23,
   "metadata": {
    "scrolled": true
   },
   "outputs": [
    {
     "data": {
      "text/plain": [
       "'Stored salaries_by_age (None → 80A8BBD8) at Sunday, 08. Dec 2019 16:56'"
      ]
     },
     "metadata": {
      "action": "store",
      "command": "store salaries_by_age in encrypted_datasets",
      "finished": "2019-12-08T16:56:53.819780",
      "finished_human_readable": "Sunday, 08. Dec 2019 16:56",
      "result": [
       {
        "new_file": {
         "crc32": "80A8BBD8",
         "sha256": "13AA1ECD7C14187B98D7ADC7DF1F64AA743036323A7879A07F0730D4A973CD98"
        },
        "old_file": {
         "crc32": null,
         "sha256": null
        },
        "subject": "salaries_by_age"
       }
      ],
      "started": "2019-12-08T16:56:53.530821"
     },
     "output_type": "display_data"
    }
   ],
   "source": [
    "%vault store salaries_by_age in encrypted_datasets"
   ]
  },
  {
   "cell_type": "code",
   "execution_count": 24,
   "metadata": {},
   "outputs": [
    {
     "name": "stdout",
     "output_type": "stream",
     "text": [
      "encrypted_storage.zip\t\t    storage.zip\r\n",
      "encrypted_storage.zip.vault.log.gz  storage.zip.vault.log.gz\r\n"
     ]
    }
   ],
   "source": [
    "!ls data"
   ]
  },
  {
   "cell_type": "code",
   "execution_count": 25,
   "metadata": {},
   "outputs": [
    {
     "name": "stdout",
     "output_type": "stream",
     "text": [
      "File 'encrypted_datasets/salaries_by_age' is encrypted, password required for extraction\n"
     ]
    }
   ],
   "source": [
    "from zipfile import ZipFile\n",
    "\n",
    "with ZipFile('data/encrypted_storage.zip') as zip_archive:\n",
    "    try:\n",
    "        with zip_archive.open('encrypted_datasets/salaries_by_age') as f:\n",
    "            pass\n",
    "    except Exception as e:\n",
    "        print(e)"
   ]
  },
  {
   "cell_type": "markdown",
   "metadata": {},
   "source": [
    "## Reference"
   ]
  },
  {
   "cell_type": "code",
   "execution_count": 26,
   "metadata": {},
   "outputs": [
    {
     "name": "stdout",
     "output_type": "stream",
     "text": [
      "The `%vault` magic provides a reproducible caching mechanism for variables exchange between notebooks.\n",
      "\n",
      "    To open the vault use `%open_vault` magic.\n",
      "    \n"
     ]
    }
   ],
   "source": [
    "print(data_vault.VaultMagics.__doc__)"
   ]
  },
  {
   "cell_type": "code",
   "execution_count": 27,
   "metadata": {},
   "outputs": [
    {
     "name": "stdout",
     "output_type": "stream",
     "text": [
      "Open a zip archive for the vault. Once opened, all subsequent `%vault` magics operate on this archive.\n",
      "\n",
      "Open vault arguments:\n",
      "\n",
      "\t --path, -p, default storage.zip\n",
      "\t --encryption_variable, -e, default None\n",
      "\t --secure, -s, default True\n",
      "\t --optimize_df, -o, default True\n",
      "\t --timestamp, -t, default True\n",
      "\t --metadata, -m, default True\n",
      "\t --logs_path, -l, default {path}.vault.log.gz\n",
      "\t --gzip_logs, -g, default True\n"
     ]
    }
   ],
   "source": [
    "print(data_vault.VaultMagics.open_vault.__doc__)"
   ]
  },
  {
   "cell_type": "code",
   "execution_count": 28,
   "metadata": {},
   "outputs": [
    {
     "name": "stdout",
     "output_type": "stream",
     "text": [
      "Perform one of the available actions, print the description and save metadata in the cell.\n",
      "\n",
      "Vault commands:\n",
      "\n",
      "# store\n",
      "\t - store <one_or_many_variables> in <module> as <valid_id> [with <function>]\n",
      "\t - store <one_or_many_variables> in <module> [with <function> as <valid_id>]\n",
      "\t - store <one_variable> in <path> [with <function>]\n",
      "# import\n",
      "\t - import <valid_id> from <module> as <valid_id> [with <function>]\n",
      "\t - import <one_or_many_valid_id> from <module> [with <function> as <valid_id>]\n",
      "\t - import <path> as <valid_id> [with <function>]\n",
      "\t - import <module> [as <valid_id>]\n",
      "# del\n",
      "\t - del <one_variable> from <module> []\n",
      "\t - del <path> []\n",
      "# assert\n",
      "\t - assert <one_variable> in <module> is <hash> [with <hash_method>]\n",
      "\t - assert <path> is <hash> [with <hash_method>]\n"
     ]
    }
   ],
   "source": [
    "print(data_vault.VaultMagics.vault.__doc__)"
   ]
  },
  {
   "cell_type": "markdown",
   "metadata": {},
   "source": [
    "Optional arguments are contained within square brackets [].\n",
    "\n",
    "Parameters are highlighted with angled brackets <>."
   ]
  }
 ],
 "metadata": {
  "kernelspec": {
   "display_name": "Python 3",
   "language": "python",
   "name": "python3"
  },
  "language_info": {
   "codemirror_mode": {
    "name": "ipython",
    "version": 3
   },
   "file_extension": ".py",
   "mimetype": "text/x-python",
   "name": "python",
   "nbconvert_exporter": "python",
   "pygments_lexer": "ipython3",
   "version": "3.7.5"
  }
 },
 "nbformat": 4,
 "nbformat_minor": 4
}
