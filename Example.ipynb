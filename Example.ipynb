{
 "cells": [
  {
   "cell_type": "code",
   "execution_count": 1,
   "metadata": {},
   "outputs": [],
   "source": [
    "import data_vault"
   ]
  },
  {
   "cell_type": "code",
   "execution_count": 2,
   "metadata": {},
   "outputs": [],
   "source": [
    "%open_vault -p data/storage.zip --secure False"
   ]
  },
  {
   "cell_type": "code",
   "execution_count": 3,
   "metadata": {},
   "outputs": [],
   "source": [
    "from pandas import DataFrame\n",
    "from random import choice, randint\n",
    "cities = ['London', 'Delhi', 'Tokyo', 'Lagos', 'Warsaw', 'Chongqing']\n",
    "salaries = DataFrame([\n",
    "    {'salary': randint(0, 100), 'city': choice(cities)}\n",
    "    for i in range(10000)\n",
    "])"
   ]
  },
  {
   "cell_type": "code",
   "execution_count": 4,
   "metadata": {},
   "outputs": [
    {
     "data": {
      "text/html": [
       "<div>\n",
       "<style scoped>\n",
       "    .dataframe tbody tr th:only-of-type {\n",
       "        vertical-align: middle;\n",
       "    }\n",
       "\n",
       "    .dataframe tbody tr th {\n",
       "        vertical-align: top;\n",
       "    }\n",
       "\n",
       "    .dataframe thead th {\n",
       "        text-align: right;\n",
       "    }\n",
       "</style>\n",
       "<table border=\"1\" class=\"dataframe\">\n",
       "  <thead>\n",
       "    <tr style=\"text-align: right;\">\n",
       "      <th></th>\n",
       "      <th>salary</th>\n",
       "      <th>city</th>\n",
       "    </tr>\n",
       "  </thead>\n",
       "  <tbody>\n",
       "    <tr>\n",
       "      <th>0</th>\n",
       "      <td>6</td>\n",
       "      <td>Lagos</td>\n",
       "    </tr>\n",
       "    <tr>\n",
       "      <th>1</th>\n",
       "      <td>5</td>\n",
       "      <td>Tokyo</td>\n",
       "    </tr>\n",
       "    <tr>\n",
       "      <th>2</th>\n",
       "      <td>100</td>\n",
       "      <td>Lagos</td>\n",
       "    </tr>\n",
       "  </tbody>\n",
       "</table>\n",
       "</div>"
      ],
      "text/plain": [
       "   salary   city\n",
       "0       6  Lagos\n",
       "1       5  Tokyo\n",
       "2     100  Lagos"
      ]
     },
     "execution_count": 4,
     "metadata": {},
     "output_type": "execute_result"
    }
   ],
   "source": [
    "salaries.head(3)"
   ]
  },
  {
   "cell_type": "markdown",
   "metadata": {},
   "source": [
    "## Examples"
   ]
  },
  {
   "cell_type": "markdown",
   "metadata": {},
   "source": [
    "### Store and import"
   ]
  },
  {
   "cell_type": "code",
   "execution_count": 5,
   "metadata": {},
   "outputs": [
    {
     "name": "stdout",
     "output_type": "stream",
     "text": [
      "datasets/salaries\n"
     ]
    },
    {
     "data": {
      "text/plain": [
       "'Stored salaries (None → 5328F82E) at Sunday, 08. Dec 2019 14:25'"
      ]
     },
     "metadata": {
      "action": "store",
      "command": "store salaries in datasets",
      "finished": "2019-12-08T14:25:42.859077",
      "finished_human_readable": "Sunday, 08. Dec 2019 14:25",
      "result": [
       {
        "new_file": {
         "crc32": "5328F82E",
         "sha256": "531648A0C4D63B113F87A4DBB87371D055C64D05AC1FA1EA2B4FBA0CAAB7D8F3"
        },
        "old_file": {
         "crc32": null,
         "sha256": null
        },
        "subject": "salaries"
       }
      ],
      "started": "2019-12-08T14:25:42.617130"
     },
     "output_type": "display_data"
    }
   ],
   "source": [
    "%vault store salaries in datasets"
   ]
  },
  {
   "cell_type": "code",
   "execution_count": 6,
   "metadata": {},
   "outputs": [
    {
     "name": "stdout",
     "output_type": "stream",
     "text": [
      "Reduced memory usage by 87.27%, from 0.79 MB to 0.10 MB.\n"
     ]
    },
    {
     "data": {
      "text/plain": [
       "'Imported salaries_dataset (5328F82E) at Sunday, 08. Dec 2019 14:25'"
      ]
     },
     "metadata": {
      "action": "import",
      "command": "import salaries from datasets as salaries_dataset",
      "finished": "2019-12-08T14:25:42.959633",
      "finished_human_readable": "Sunday, 08. Dec 2019 14:25",
      "result": [
       {
        "new_file": {
         "crc32": "5328F82E",
         "sha256": "531648A0C4D63B113F87A4DBB87371D055C64D05AC1FA1EA2B4FBA0CAAB7D8F3"
        },
        "subject": "salaries_dataset"
       }
      ],
      "started": "2019-12-08T14:25:42.868250"
     },
     "output_type": "display_data"
    }
   ],
   "source": [
    "%vault import salaries from datasets as salaries_dataset"
   ]
  },
  {
   "cell_type": "code",
   "execution_count": 7,
   "metadata": {},
   "outputs": [
    {
     "data": {
      "text/html": [
       "<div>\n",
       "<style scoped>\n",
       "    .dataframe tbody tr th:only-of-type {\n",
       "        vertical-align: middle;\n",
       "    }\n",
       "\n",
       "    .dataframe tbody tr th {\n",
       "        vertical-align: top;\n",
       "    }\n",
       "\n",
       "    .dataframe thead th {\n",
       "        text-align: right;\n",
       "    }\n",
       "</style>\n",
       "<table border=\"1\" class=\"dataframe\">\n",
       "  <thead>\n",
       "    <tr style=\"text-align: right;\">\n",
       "      <th></th>\n",
       "      <th>salary</th>\n",
       "      <th>city</th>\n",
       "    </tr>\n",
       "  </thead>\n",
       "  <tbody>\n",
       "    <tr>\n",
       "      <th>0</th>\n",
       "      <td>6</td>\n",
       "      <td>Lagos</td>\n",
       "    </tr>\n",
       "    <tr>\n",
       "      <th>1</th>\n",
       "      <td>5</td>\n",
       "      <td>Tokyo</td>\n",
       "    </tr>\n",
       "    <tr>\n",
       "      <th>2</th>\n",
       "      <td>100</td>\n",
       "      <td>Lagos</td>\n",
       "    </tr>\n",
       "  </tbody>\n",
       "</table>\n",
       "</div>"
      ],
      "text/plain": [
       "   salary   city\n",
       "0       6  Lagos\n",
       "1       5  Tokyo\n",
       "2     100  Lagos"
      ]
     },
     "execution_count": 7,
     "metadata": {},
     "output_type": "execute_result"
    }
   ],
   "source": [
    "salaries_dataset.head(3)"
   ]
  },
  {
   "cell_type": "code",
   "execution_count": 8,
   "metadata": {},
   "outputs": [],
   "source": [
    "salaries_by_age = salaries.assign(age=salaries.index.map(lambda x: randint(0, 100)))"
   ]
  },
  {
   "cell_type": "code",
   "execution_count": 9,
   "metadata": {},
   "outputs": [
    {
     "data": {
      "text/html": [
       "<div>\n",
       "<style scoped>\n",
       "    .dataframe tbody tr th:only-of-type {\n",
       "        vertical-align: middle;\n",
       "    }\n",
       "\n",
       "    .dataframe tbody tr th {\n",
       "        vertical-align: top;\n",
       "    }\n",
       "\n",
       "    .dataframe thead th {\n",
       "        text-align: right;\n",
       "    }\n",
       "</style>\n",
       "<table border=\"1\" class=\"dataframe\">\n",
       "  <thead>\n",
       "    <tr style=\"text-align: right;\">\n",
       "      <th></th>\n",
       "      <th>salary</th>\n",
       "      <th>city</th>\n",
       "      <th>age</th>\n",
       "    </tr>\n",
       "  </thead>\n",
       "  <tbody>\n",
       "    <tr>\n",
       "      <th>0</th>\n",
       "      <td>6</td>\n",
       "      <td>Lagos</td>\n",
       "      <td>76</td>\n",
       "    </tr>\n",
       "    <tr>\n",
       "      <th>1</th>\n",
       "      <td>5</td>\n",
       "      <td>Tokyo</td>\n",
       "      <td>57</td>\n",
       "    </tr>\n",
       "    <tr>\n",
       "      <th>2</th>\n",
       "      <td>100</td>\n",
       "      <td>Lagos</td>\n",
       "      <td>75</td>\n",
       "    </tr>\n",
       "  </tbody>\n",
       "</table>\n",
       "</div>"
      ],
      "text/plain": [
       "   salary   city  age\n",
       "0       6  Lagos   76\n",
       "1       5  Tokyo   57\n",
       "2     100  Lagos   75"
      ]
     },
     "execution_count": 9,
     "metadata": {},
     "output_type": "execute_result"
    }
   ],
   "source": [
    "salaries_by_age.head(3)"
   ]
  },
  {
   "cell_type": "code",
   "execution_count": 10,
   "metadata": {},
   "outputs": [
    {
     "name": "stdout",
     "output_type": "stream",
     "text": [
      "datasets/salaries_by_age\n"
     ]
    },
    {
     "data": {
      "text/plain": [
       "'Stored salaries_by_age (F0DC3487 → 61F0099E) at Sunday, 08. Dec 2019 14:25'"
      ]
     },
     "metadata": {
      "action": "store",
      "command": "store salaries_by_age in datasets",
      "finished": "2019-12-08T14:25:43.314093",
      "finished_human_readable": "Sunday, 08. Dec 2019 14:25",
      "result": [
       {
        "new_file": {
         "crc32": "61F0099E",
         "sha256": "54070E5D07888D53B51410CBB84AC8CCF8121F307C0FB039D88F4AD16A2080E6"
        },
        "old_file": {
         "crc32": "F0DC3487",
         "sha256": "D03D7D6769A5EBC7B0AEE8736727F190C5D606EB9D7B8438A1034161CEC27748"
        },
        "subject": "salaries_by_age"
       }
      ],
      "started": "2019-12-08T14:25:43.030036"
     },
     "output_type": "display_data"
    }
   ],
   "source": [
    "%vault store salaries_by_age in datasets"
   ]
  },
  {
   "cell_type": "code",
   "execution_count": 11,
   "metadata": {},
   "outputs": [
    {
     "data": {
      "text/plain": [
       "'Imported  at Sunday, 08. Dec 2019 14:25'"
      ]
     },
     "metadata": {
      "action": "import",
      "command": "import datasets",
      "finished": "2019-12-08T14:25:43.335163",
      "finished_human_readable": "Sunday, 08. Dec 2019 14:25",
      "result": [],
      "started": "2019-12-08T14:25:43.322338"
     },
     "output_type": "display_data"
    }
   ],
   "source": [
    "%vault import datasets"
   ]
  },
  {
   "cell_type": "code",
   "execution_count": 12,
   "metadata": {},
   "outputs": [],
   "source": [
    "# uncomment the line below and press <tab> with cursor after the dot (.)\n",
    "# to see how the autcompletion works on imported folders:\n",
    "\n",
    "# datasets."
   ]
  },
  {
   "cell_type": "code",
   "execution_count": 13,
   "metadata": {},
   "outputs": [
    {
     "name": "stdout",
     "output_type": "stream",
     "text": [
      "Reduced memory usage by 87.27%, from 0.79 MB to 0.10 MB.\n"
     ]
    },
    {
     "data": {
      "text/html": [
       "<div>\n",
       "<style scoped>\n",
       "    .dataframe tbody tr th:only-of-type {\n",
       "        vertical-align: middle;\n",
       "    }\n",
       "\n",
       "    .dataframe tbody tr th {\n",
       "        vertical-align: top;\n",
       "    }\n",
       "\n",
       "    .dataframe thead th {\n",
       "        text-align: right;\n",
       "    }\n",
       "</style>\n",
       "<table border=\"1\" class=\"dataframe\">\n",
       "  <thead>\n",
       "    <tr style=\"text-align: right;\">\n",
       "      <th></th>\n",
       "      <th>salary</th>\n",
       "      <th>city</th>\n",
       "    </tr>\n",
       "  </thead>\n",
       "  <tbody>\n",
       "    <tr>\n",
       "      <th>0</th>\n",
       "      <td>6</td>\n",
       "      <td>Lagos</td>\n",
       "    </tr>\n",
       "    <tr>\n",
       "      <th>1</th>\n",
       "      <td>5</td>\n",
       "      <td>Tokyo</td>\n",
       "    </tr>\n",
       "    <tr>\n",
       "      <th>2</th>\n",
       "      <td>100</td>\n",
       "      <td>Lagos</td>\n",
       "    </tr>\n",
       "  </tbody>\n",
       "</table>\n",
       "</div>"
      ],
      "text/plain": [
       "   salary   city\n",
       "0       6  Lagos\n",
       "1       5  Tokyo\n",
       "2     100  Lagos"
      ]
     },
     "execution_count": 13,
     "metadata": {},
     "output_type": "execute_result"
    }
   ],
   "source": [
    "datasets.salaries.head(3)"
   ]
  },
  {
   "cell_type": "code",
   "execution_count": 14,
   "metadata": {},
   "outputs": [
    {
     "name": "stdout",
     "output_type": "stream",
     "text": [
      "Reduced memory usage by 87.30%, from 0.87 MB to 0.11 MB.\n"
     ]
    },
    {
     "data": {
      "text/html": [
       "<div>\n",
       "<style scoped>\n",
       "    .dataframe tbody tr th:only-of-type {\n",
       "        vertical-align: middle;\n",
       "    }\n",
       "\n",
       "    .dataframe tbody tr th {\n",
       "        vertical-align: top;\n",
       "    }\n",
       "\n",
       "    .dataframe thead th {\n",
       "        text-align: right;\n",
       "    }\n",
       "</style>\n",
       "<table border=\"1\" class=\"dataframe\">\n",
       "  <thead>\n",
       "    <tr style=\"text-align: right;\">\n",
       "      <th></th>\n",
       "      <th>salary</th>\n",
       "      <th>city</th>\n",
       "      <th>age</th>\n",
       "    </tr>\n",
       "  </thead>\n",
       "  <tbody>\n",
       "    <tr>\n",
       "      <th>0</th>\n",
       "      <td>6</td>\n",
       "      <td>Lagos</td>\n",
       "      <td>76</td>\n",
       "    </tr>\n",
       "    <tr>\n",
       "      <th>1</th>\n",
       "      <td>5</td>\n",
       "      <td>Tokyo</td>\n",
       "      <td>57</td>\n",
       "    </tr>\n",
       "    <tr>\n",
       "      <th>2</th>\n",
       "      <td>100</td>\n",
       "      <td>Lagos</td>\n",
       "      <td>75</td>\n",
       "    </tr>\n",
       "  </tbody>\n",
       "</table>\n",
       "</div>"
      ],
      "text/plain": [
       "   salary   city  age\n",
       "0       6  Lagos   76\n",
       "1       5  Tokyo   57\n",
       "2     100  Lagos   75"
      ]
     },
     "execution_count": 14,
     "metadata": {},
     "output_type": "execute_result"
    }
   ],
   "source": [
    "datasets.salaries_by_age.head(3)"
   ]
  },
  {
   "cell_type": "markdown",
   "metadata": {},
   "source": [
    "To display all members in code:"
   ]
  },
  {
   "cell_type": "code",
   "execution_count": 15,
   "metadata": {},
   "outputs": [
    {
     "data": {
      "text/plain": [
       "['salaries', 'salaries_by_age']"
      ]
     },
     "execution_count": 15,
     "metadata": {},
     "output_type": "execute_result"
    }
   ],
   "source": [
    "dir(datasets)"
   ]
  },
  {
   "cell_type": "markdown",
   "metadata": {},
   "source": [
    "### Delete"
   ]
  },
  {
   "cell_type": "code",
   "execution_count": 16,
   "metadata": {},
   "outputs": [
    {
     "data": {
      "text/plain": [
       "'Deleted datasets/salaries (5328F82E) at Sunday, 08. Dec 2019 14:25'"
      ]
     },
     "metadata": {
      "action": "del",
      "command": "del salaries from datasets",
      "finished": "2019-12-08T14:25:43.596169",
      "finished_human_readable": "Sunday, 08. Dec 2019 14:25",
      "result": [
       {
        "old_file": {
         "crc32": "5328F82E",
         "sha256": "531648A0C4D63B113F87A4DBB87371D055C64D05AC1FA1EA2B4FBA0CAAB7D8F3"
        },
        "subject": "datasets/salaries"
       }
      ],
      "started": "2019-12-08T14:25:43.534785"
     },
     "output_type": "display_data"
    }
   ],
   "source": [
    "%vault del salaries from datasets"
   ]
  },
  {
   "cell_type": "code",
   "execution_count": 17,
   "metadata": {},
   "outputs": [
    {
     "data": {
      "text/plain": [
       "['salaries_by_age']"
      ]
     },
     "execution_count": 17,
     "metadata": {},
     "output_type": "execute_result"
    }
   ],
   "source": [
    "dir(datasets)"
   ]
  },
  {
   "cell_type": "markdown",
   "metadata": {},
   "source": [
    "### Encrypted storage"
   ]
  },
  {
   "cell_type": "markdown",
   "metadata": {},
   "source": [
    "Normally you would want to keep the definition of your key in a secure location, not in the notebook itself, but just for the sake of demonstration:"
   ]
  },
  {
   "cell_type": "code",
   "execution_count": 18,
   "metadata": {},
   "outputs": [
    {
     "name": "stdout",
     "output_type": "stream",
     "text": [
      "env: STORAGE_KEY=SECRET_PASSWORD\n"
     ]
    }
   ],
   "source": [
    "%env STORAGE_KEY=SECRET_PASSWORD"
   ]
  },
  {
   "cell_type": "code",
   "execution_count": 19,
   "metadata": {},
   "outputs": [],
   "source": [
    "%open_vault -p data/encrypted_storage.zip --encryption_variable STORAGE_KEY"
   ]
  },
  {
   "cell_type": "code",
   "execution_count": 20,
   "metadata": {
    "scrolled": true
   },
   "outputs": [
    {
     "name": "stdout",
     "output_type": "stream",
     "text": [
      "encrypted_datasets/salaries_by_age\n"
     ]
    },
    {
     "data": {
      "text/plain": [
       "'Stored salaries_by_age (5AC461A9 → 61F0099E) at Sunday, 08. Dec 2019 14:25'"
      ]
     },
     "metadata": {
      "action": "store",
      "command": "store salaries_by_age in encrypted_datasets",
      "finished": "2019-12-08T14:25:43.918417",
      "finished_human_readable": "Sunday, 08. Dec 2019 14:25",
      "result": [
       {
        "new_file": {
         "crc32": "61F0099E",
         "sha256": "54070E5D07888D53B51410CBB84AC8CCF8121F307C0FB039D88F4AD16A2080E6"
        },
        "old_file": {
         "crc32": "5AC461A9",
         "sha256": "0B7CDD26C784FDF8EAB406EB622B21C70F101A9E1DDE0E2F1A79D68AB7A95B59"
        },
        "subject": "salaries_by_age"
       }
      ],
      "started": "2019-12-08T14:25:43.626991"
     },
     "output_type": "display_data"
    }
   ],
   "source": [
    "%vault store salaries_by_age in encrypted_datasets"
   ]
  },
  {
   "cell_type": "code",
   "execution_count": 21,
   "metadata": {},
   "outputs": [
    {
     "name": "stdout",
     "output_type": "stream",
     "text": [
      "encrypted_storage.zip  storage.zip\r\n"
     ]
    }
   ],
   "source": [
    "!ls data"
   ]
  },
  {
   "cell_type": "code",
   "execution_count": 22,
   "metadata": {},
   "outputs": [
    {
     "name": "stdout",
     "output_type": "stream",
     "text": [
      "File 'encrypted_datasets/salaries_by_age' is encrypted, password required for extraction\n"
     ]
    }
   ],
   "source": [
    "from zipfile import ZipFile\n",
    "\n",
    "with ZipFile('data/encrypted_storage.zip') as zip_archive:\n",
    "    try:\n",
    "        with zip_archive.open('encrypted_datasets/salaries_by_age') as f:\n",
    "            pass\n",
    "    except Exception as e:\n",
    "        print(e)"
   ]
  },
  {
   "cell_type": "markdown",
   "metadata": {},
   "source": [
    "## Reference"
   ]
  },
  {
   "cell_type": "code",
   "execution_count": 23,
   "metadata": {},
   "outputs": [
    {
     "name": "stdout",
     "output_type": "stream",
     "text": [
      "The `%vault` magic provides a reproducible caching mechanism for variables exchange between notebooks.\n",
      "\n",
      "    To open the vault use `%open_vault` magic.\n",
      "    \n"
     ]
    }
   ],
   "source": [
    "print(data_vault.VaultMagics.__doc__)"
   ]
  },
  {
   "cell_type": "code",
   "execution_count": 24,
   "metadata": {},
   "outputs": [
    {
     "name": "stdout",
     "output_type": "stream",
     "text": [
      "Open a zip archive for the vault. Once opened, all subsequent `%vault` magics operate on this archive.\n",
      "\n",
      "Open vault arguments:\n",
      "\n",
      "\t --path, -p, default storage.zip\n",
      "\t --encryption_variable, -e, default None\n",
      "\t --secure, -s, default True\n",
      "\t --optimize_df, -o, default True\n",
      "\t --timestamp, -t, default True\n",
      "\t --metadata, -m, default True\n"
     ]
    }
   ],
   "source": [
    "print(data_vault.VaultMagics.open_vault.__doc__)"
   ]
  },
  {
   "cell_type": "code",
   "execution_count": 25,
   "metadata": {},
   "outputs": [
    {
     "name": "stdout",
     "output_type": "stream",
     "text": [
      "Perform one of the available actions, print the description and save metadata in the cell.\n",
      "\n",
      "Vault commands:\n",
      "\n",
      "# store\n",
      "\t - store <one_or_many_variables> in <module> as <valid_id> [with <function>]\n",
      "\t - store <one_or_many_variables> in <module> [with <function> as <valid_id>]\n",
      "\t - store <one_variable> in <path> [with <function>]\n",
      "# import\n",
      "\t - import <valid_id> from <module> as <valid_id> [with <function>]\n",
      "\t - import <one_or_many_valid_id> from <module> [with <function> as <valid_id>]\n",
      "\t - import <path> as <valid_id> [with <function>]\n",
      "\t - import <module> [as <valid_id>]\n",
      "# del\n",
      "\t - del <one_variable> from <module> []\n",
      "\t - del <path> []\n",
      "# assert\n",
      "\t - assert <one_variable> in <module> is <hash> [with <hash_method>]\n",
      "\t - assert <path> is <hash> [with <hash_method>]\n"
     ]
    }
   ],
   "source": [
    "print(data_vault.VaultMagics.vault.__doc__)"
   ]
  }
 ],
 "metadata": {
  "kernelspec": {
   "display_name": "Python 3",
   "language": "python",
   "name": "python3"
  },
  "language_info": {
   "codemirror_mode": {
    "name": "ipython",
    "version": 3
   },
   "file_extension": ".py",
   "mimetype": "text/x-python",
   "name": "python",
   "nbconvert_exporter": "python",
   "pygments_lexer": "ipython3",
   "version": "3.7.5"
  }
 },
 "nbformat": 4,
 "nbformat_minor": 4
}
